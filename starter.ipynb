{
 "cells": [
  {
   "cell_type": "code",
   "execution_count": 1,
   "id": "d137399b-9077-4a7b-a22b-8338e10815c1",
   "metadata": {},
   "outputs": [
    {
     "data": {
      "text/html": [
       "<div>\n",
       "<style scoped>\n",
       "    .dataframe tbody tr th:only-of-type {\n",
       "        vertical-align: middle;\n",
       "    }\n",
       "\n",
       "    .dataframe tbody tr th {\n",
       "        vertical-align: top;\n",
       "    }\n",
       "\n",
       "    .dataframe thead th {\n",
       "        text-align: right;\n",
       "    }\n",
       "</style>\n",
       "<table border=\"1\" class=\"dataframe\">\n",
       "  <thead>\n",
       "    <tr style=\"text-align: right;\">\n",
       "      <th></th>\n",
       "      <th>Unnamed: 0</th>\n",
       "      <th>Title</th>\n",
       "      <th>Release_Date</th>\n",
       "      <th>Developers</th>\n",
       "      <th>Summary</th>\n",
       "      <th>Platforms</th>\n",
       "      <th>Genres</th>\n",
       "      <th>Rating</th>\n",
       "      <th>Plays</th>\n",
       "      <th>Playing</th>\n",
       "      <th>Backlogs</th>\n",
       "      <th>Wishlist</th>\n",
       "      <th>Lists</th>\n",
       "      <th>Reviews</th>\n",
       "    </tr>\n",
       "  </thead>\n",
       "  <tbody>\n",
       "    <tr>\n",
       "      <th>0</th>\n",
       "      <td>0</td>\n",
       "      <td>Elden Ring</td>\n",
       "      <td>Feb 25, 2022</td>\n",
       "      <td>['FromSoftware', 'Bandai Namco Entertainment']</td>\n",
       "      <td>Elden Ring is a fantasy, action and open world...</td>\n",
       "      <td>['Windows PC', 'PlayStation 4', 'Xbox One', 'P...</td>\n",
       "      <td>['Adventure', 'RPG']</td>\n",
       "      <td>4.5</td>\n",
       "      <td>21K</td>\n",
       "      <td>4.1K</td>\n",
       "      <td>5.6K</td>\n",
       "      <td>5.5K</td>\n",
       "      <td>4.6K</td>\n",
       "      <td>3K</td>\n",
       "    </tr>\n",
       "    <tr>\n",
       "      <th>1</th>\n",
       "      <td>1</td>\n",
       "      <td>The Legend of Zelda: Breath of the Wild</td>\n",
       "      <td>Mar 03, 2017</td>\n",
       "      <td>['Nintendo', 'Nintendo EPD Production Group No...</td>\n",
       "      <td>The Legend of Zelda: Breath of the Wild is the...</td>\n",
       "      <td>['Wii U', 'Nintendo Switch']</td>\n",
       "      <td>['Adventure', 'Puzzle']</td>\n",
       "      <td>4.4</td>\n",
       "      <td>35K</td>\n",
       "      <td>3.1K</td>\n",
       "      <td>5.6K</td>\n",
       "      <td>3K</td>\n",
       "      <td>5.1K</td>\n",
       "      <td>3K</td>\n",
       "    </tr>\n",
       "    <tr>\n",
       "      <th>2</th>\n",
       "      <td>2</td>\n",
       "      <td>Hades</td>\n",
       "      <td>Dec 07, 2018</td>\n",
       "      <td>['Supergiant Games']</td>\n",
       "      <td>A rogue-lite hack and slash dungeon crawler in...</td>\n",
       "      <td>['Windows PC', 'Mac', 'PlayStation 4', 'Xbox O...</td>\n",
       "      <td>['Adventure', 'Brawler', 'Indie', 'RPG']</td>\n",
       "      <td>4.3</td>\n",
       "      <td>25K</td>\n",
       "      <td>3.5K</td>\n",
       "      <td>7.3K</td>\n",
       "      <td>4K</td>\n",
       "      <td>3.2K</td>\n",
       "      <td>2.1K</td>\n",
       "    </tr>\n",
       "    <tr>\n",
       "      <th>3</th>\n",
       "      <td>3</td>\n",
       "      <td>Hollow Knight</td>\n",
       "      <td>Feb 24, 2017</td>\n",
       "      <td>['Team Cherry']</td>\n",
       "      <td>A 2D metroidvania with an emphasis on close co...</td>\n",
       "      <td>['Windows PC', 'Mac', 'Linux', 'Nintendo Switch']</td>\n",
       "      <td>['Adventure', 'Indie', 'Platform']</td>\n",
       "      <td>4.4</td>\n",
       "      <td>25K</td>\n",
       "      <td>2.7K</td>\n",
       "      <td>9.6K</td>\n",
       "      <td>2.6K</td>\n",
       "      <td>3.4K</td>\n",
       "      <td>2.1K</td>\n",
       "    </tr>\n",
       "    <tr>\n",
       "      <th>4</th>\n",
       "      <td>4</td>\n",
       "      <td>Undertale</td>\n",
       "      <td>Sep 15, 2015</td>\n",
       "      <td>['tobyfox', '8-4']</td>\n",
       "      <td>A small child falls into the Underground, wher...</td>\n",
       "      <td>['Windows PC', 'Mac', 'Linux', 'PlayStation 4'...</td>\n",
       "      <td>['Adventure', 'Indie', 'RPG', 'Turn Based Stra...</td>\n",
       "      <td>4.2</td>\n",
       "      <td>32K</td>\n",
       "      <td>728</td>\n",
       "      <td>5.7K</td>\n",
       "      <td>2.1K</td>\n",
       "      <td>3.9K</td>\n",
       "      <td>2.5K</td>\n",
       "    </tr>\n",
       "  </tbody>\n",
       "</table>\n",
       "</div>"
      ],
      "text/plain": [
       "   Unnamed: 0                                    Title  Release_Date  \\\n",
       "0           0                               Elden Ring  Feb 25, 2022   \n",
       "1           1  The Legend of Zelda: Breath of the Wild  Mar 03, 2017   \n",
       "2           2                                    Hades  Dec 07, 2018   \n",
       "3           3                            Hollow Knight  Feb 24, 2017   \n",
       "4           4                                Undertale  Sep 15, 2015   \n",
       "\n",
       "                                          Developers  \\\n",
       "0     ['FromSoftware', 'Bandai Namco Entertainment']   \n",
       "1  ['Nintendo', 'Nintendo EPD Production Group No...   \n",
       "2                               ['Supergiant Games']   \n",
       "3                                    ['Team Cherry']   \n",
       "4                                 ['tobyfox', '8-4']   \n",
       "\n",
       "                                             Summary  \\\n",
       "0  Elden Ring is a fantasy, action and open world...   \n",
       "1  The Legend of Zelda: Breath of the Wild is the...   \n",
       "2  A rogue-lite hack and slash dungeon crawler in...   \n",
       "3  A 2D metroidvania with an emphasis on close co...   \n",
       "4  A small child falls into the Underground, wher...   \n",
       "\n",
       "                                           Platforms  \\\n",
       "0  ['Windows PC', 'PlayStation 4', 'Xbox One', 'P...   \n",
       "1                       ['Wii U', 'Nintendo Switch']   \n",
       "2  ['Windows PC', 'Mac', 'PlayStation 4', 'Xbox O...   \n",
       "3  ['Windows PC', 'Mac', 'Linux', 'Nintendo Switch']   \n",
       "4  ['Windows PC', 'Mac', 'Linux', 'PlayStation 4'...   \n",
       "\n",
       "                                              Genres  Rating Plays Playing  \\\n",
       "0                               ['Adventure', 'RPG']     4.5   21K    4.1K   \n",
       "1                            ['Adventure', 'Puzzle']     4.4   35K    3.1K   \n",
       "2           ['Adventure', 'Brawler', 'Indie', 'RPG']     4.3   25K    3.5K   \n",
       "3                 ['Adventure', 'Indie', 'Platform']     4.4   25K    2.7K   \n",
       "4  ['Adventure', 'Indie', 'RPG', 'Turn Based Stra...     4.2   32K     728   \n",
       "\n",
       "  Backlogs Wishlist Lists Reviews  \n",
       "0     5.6K     5.5K  4.6K      3K  \n",
       "1     5.6K       3K  5.1K      3K  \n",
       "2     7.3K       4K  3.2K    2.1K  \n",
       "3     9.6K     2.6K  3.4K    2.1K  \n",
       "4     5.7K     2.1K  3.9K    2.5K  "
      ]
     },
     "execution_count": 1,
     "metadata": {},
     "output_type": "execute_result"
    }
   ],
   "source": [
    "import matplotlib.pyplot as plt\n",
    "import pandas as pd\n",
    "import scipy.stats as st\n",
    "import seaborn as sns\n",
    "from random import randrange\n",
    "from scipy.stats import linregress\n",
    "# Study data files\n",
    "path = \"backloggd_games.csv\"\n",
    "\n",
    "\n",
    "# Read the mouse data and the study results\n",
    "game_df = pd.read_csv(path)\n",
    "\n",
    "\n",
    "\n",
    "# Display the data table for preview\n",
    "game_df.head()"
   ]
  },
  {
   "cell_type": "code",
   "execution_count": 2,
   "id": "b28a2bd8-c2d3-4a83-911a-186f66ea3fb0",
   "metadata": {},
   "outputs": [
    {
     "name": "stdout",
     "output_type": "stream",
     "text": [
      "<class 'pandas.core.frame.DataFrame'>\n",
      "RangeIndex: 60000 entries, 0 to 59999\n",
      "Data columns (total 14 columns):\n",
      " #   Column        Non-Null Count  Dtype  \n",
      "---  ------        --------------  -----  \n",
      " 0   Unnamed: 0    60000 non-null  int64  \n",
      " 1   Title         60000 non-null  object \n",
      " 2   Release_Date  60000 non-null  object \n",
      " 3   Developers    60000 non-null  object \n",
      " 4   Summary       55046 non-null  object \n",
      " 5   Platforms     60000 non-null  object \n",
      " 6   Genres        60000 non-null  object \n",
      " 7   Rating        25405 non-null  float64\n",
      " 8   Plays         60000 non-null  object \n",
      " 9   Playing       60000 non-null  object \n",
      " 10  Backlogs      60000 non-null  object \n",
      " 11  Wishlist      60000 non-null  object \n",
      " 12  Lists         60000 non-null  object \n",
      " 13  Reviews       60000 non-null  object \n",
      "dtypes: float64(1), int64(1), object(12)\n",
      "memory usage: 6.4+ MB\n"
     ]
    }
   ],
   "source": [
    "game_df.info()"
   ]
  },
  {
   "cell_type": "code",
   "execution_count": null,
   "id": "e20e54b4-20f2-4cdb-acbf-b550d98296cd",
   "metadata": {},
   "outputs": [],
   "source": []
  },
  {
   "cell_type": "code",
   "execution_count": 6,
   "id": "522f0a8e-f11a-48cd-b997-d44b85e097c0",
   "metadata": {},
   "outputs": [
    {
     "data": {
      "text/plain": [
       "18356"
      ]
     },
     "execution_count": 6,
     "metadata": {},
     "output_type": "execute_result"
    }
   ],
   "source": [
    "game_df.Developers.nunique()"
   ]
  },
  {
   "cell_type": "code",
   "execution_count": 9,
   "id": "0680fce5-d70a-4655-aa8f-e5035de8e3bc",
   "metadata": {},
   "outputs": [
    {
     "data": {
      "text/plain": [
       "Developers\n",
       "[]                                        18091\n",
       "['Konami']                                  470\n",
       "['Nintendo']                                325\n",
       "['Capcom']                                  318\n",
       "['Sega']                                    185\n",
       "                                          ...  \n",
       "['NanoPiko Games', 'Plug In Digital']         1\n",
       "['DevCubeStudio', 'Fibrum Limited']           1\n",
       "['TeamFatBears']                              1\n",
       "['Blueside', 'Microsoft Game Studios']        1\n",
       "['Travian Games', 'Shadow Masters']           1\n",
       "Name: count, Length: 18356, dtype: int64"
      ]
     },
     "execution_count": 9,
     "metadata": {},
     "output_type": "execute_result"
    }
   ],
   "source": [
    "game_df.Developers.value_counts()"
   ]
  },
  {
   "cell_type": "code",
   "execution_count": 10,
   "id": "0e60e6b6-c302-4868-a088-76a0981fcdb9",
   "metadata": {},
   "outputs": [
    {
     "data": {
      "text/plain": [
       "Title\n",
       "Date A Live Twin Edition: Rio Reincarnation            24\n",
       "Tube                                                   21\n",
       "Yakiniku Bugyou                                        20\n",
       "The Store is Closed                                    20\n",
       "Nonogram Survival                                      19\n",
       "                                                       ..\n",
       "Spider-Man: Homecoming - Virtual Reality Experience     1\n",
       "Hammerfight                                             1\n",
       "Team USA Basketball                                     1\n",
       "Syvalion                                                1\n",
       "Orbit - Playing with Gravity                            1\n",
       "Name: count, Length: 40985, dtype: int64"
      ]
     },
     "execution_count": 10,
     "metadata": {},
     "output_type": "execute_result"
    }
   ],
   "source": [
    "game_df.Title.value_counts()"
   ]
  },
  {
   "cell_type": "code",
   "execution_count": 12,
   "id": "3a2d1fca-86a7-4050-9500-e0f4c2a54f7d",
   "metadata": {},
   "outputs": [
    {
     "data": {
      "text/plain": [
       "40985"
      ]
     },
     "execution_count": 12,
     "metadata": {},
     "output_type": "execute_result"
    }
   ],
   "source": [
    "game_df.Title.nunique()"
   ]
  },
  {
   "cell_type": "code",
   "execution_count": null,
   "id": "3d148c4c-b945-442e-8b5f-b0c8c9a5390b",
   "metadata": {},
   "outputs": [],
   "source": []
  }
 ],
 "metadata": {
  "kernelspec": {
   "display_name": "Python 3 (ipykernel)",
   "language": "python",
   "name": "python3"
  },
  "language_info": {
   "codemirror_mode": {
    "name": "ipython",
    "version": 3
   },
   "file_extension": ".py",
   "mimetype": "text/x-python",
   "name": "python",
   "nbconvert_exporter": "python",
   "pygments_lexer": "ipython3",
   "version": "3.10.14"
  }
 },
 "nbformat": 4,
 "nbformat_minor": 5
}
